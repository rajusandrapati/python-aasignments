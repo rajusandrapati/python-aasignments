{
  "nbformat": 4,
  "nbformat_minor": 0,
  "metadata": {
    "colab": {
      "provenance": [],
      "authorship_tag": "ABX9TyNYEF5PMPITUgfyFpesOrN6",
      "include_colab_link": true
    },
    "kernelspec": {
      "name": "python3",
      "display_name": "Python 3"
    },
    "language_info": {
      "name": "python"
    }
  },
  "cells": [
    {
      "cell_type": "markdown",
      "metadata": {
        "id": "view-in-github",
        "colab_type": "text"
      },
      "source": [
        "<a href=\"https://colab.research.google.com/github/rajusandrapati/python-aasignments/blob/main/Assignments.ipynb\" target=\"_parent\"><img src=\"https://colab.research.google.com/assets/colab-badge.svg\" alt=\"Open In Colab\"/></a>"
      ]
    },
    {
      "cell_type": "code",
      "execution_count": null,
      "metadata": {
        "colab": {
          "base_uri": "https://localhost:8080/"
        },
        "id": "6bDtv2lQgJT5",
        "outputId": "f67a1755-7e37-4efe-ec5b-09595c21183f"
      },
      "outputs": [
        {
          "output_type": "stream",
          "name": "stdout",
          "text": [
            "Sandrapati raju\n"
          ]
        }
      ],
      "source": [
        "# Write a program to print your name\n",
        "\n",
        "print(\"Sandrapati raju\")"
      ]
    },
    {
      "cell_type": "code",
      "source": [
        "# This is a single line comment\n",
        "# The following line reads input from the user\n",
        "user_input = input(\"Enter a number: \")\n",
        "\n",
        "# Convert the input to an integer\n",
        "number = int(user_input)\n",
        "\n",
        "# Multiply the number by 2\n",
        "result = number * 2\n",
        "\n",
        "# Output the result\n",
        "print(\"The result is:\", result)\n",
        "\n",
        "\"\"\"\n",
        "This is a multi-line comment.\n",
        "This program demonstrates how to:\n",
        "1. Read input from the user.\n",
        "2. Perform a basic arithmetic operation (multiplication).\n",
        "3. Print the result.\n",
        "\"\"\"\n",
        "\n",
        "print(\"Multi-line commenting example\")"
      ],
      "metadata": {
        "colab": {
          "base_uri": "https://localhost:8080/"
        },
        "id": "H942s1yLgWO_",
        "outputId": "f68fce02-298e-4d9f-9913-192d40db708f"
      },
      "execution_count": null,
      "outputs": [
        {
          "output_type": "stream",
          "name": "stdout",
          "text": [
            "Enter a number: 3\n",
            "The result is: 6\n",
            "Multi-line commenting example\n"
          ]
        }
      ]
    },
    {
      "cell_type": "code",
      "source": [
        "# Global variable\n",
        "message = \"Hello from the Global Scope\"\n",
        "\n",
        "def my_function():\n",
        "    # Local variable with the same name as the global variable\n",
        "    message = \"Hello from the Local Scope\"\n",
        "    print(\"Inside the function:\", message)  # This will print the local variable\n",
        "\n",
        "# Call the function\n",
        "my_function()\n",
        "\n",
        "# Print the global variable\n",
        "print(\"Outside the function:\", message)  # This will print the global variable\n"
      ],
      "metadata": {
        "colab": {
          "base_uri": "https://localhost:8080/"
        },
        "id": "iACZUDlNkTSM",
        "outputId": "05e08abc-0c70-4180-9fa2-f765db790f53"
      },
      "execution_count": null,
      "outputs": [
        {
          "output_type": "stream",
          "name": "stdout",
          "text": [
            "Inside the function: Hello from the Local Scope\n",
            "Outside the function: Hello from the Global Scope\n"
          ]
        }
      ]
    },
    {
      "cell_type": "code",
      "source": [
        "# Integer\n",
        "int_var = 10\n",
        "print(\"Integer:\", int_var)\n",
        "\n",
        "# Boolean\n",
        "bool_var = True\n",
        "print(\"Boolean:\", bool_var)\n",
        "\n",
        "# Character (Note: Python does not have a separate char data type, but we can use a single character string)\n",
        "char_var = 'A'\n",
        "print(\"Character:\", char_var)\n",
        "\n",
        "# Float\n",
        "float_var = 3.14\n",
        "print(\"Float:\", float_var)\n",
        "\n",
        "# Double (Note: Python does not have a separate double data type, but we can use a float with more precision)\n",
        "double_var = 3.14159265359\n",
        "print(\"Double:\", double_var)"
      ],
      "metadata": {
        "colab": {
          "base_uri": "https://localhost:8080/"
        },
        "id": "oYmTOVPTkq1h",
        "outputId": "7397f0f8-173a-441a-8c72-e3db03f66e94"
      },
      "execution_count": null,
      "outputs": [
        {
          "output_type": "stream",
          "name": "stdout",
          "text": [
            "Integer: 10\n",
            "Boolean: True\n",
            "Character: A\n",
            "Float: 3.14\n",
            "Double: 3.14159265359\n"
          ]
        }
      ]
    },
    {
      "cell_type": "code",
      "source": [
        "# Write a function for arithmetic operators(+,-,*,/)\n",
        "\n",
        "# Store input numbers:\n",
        "num1 = float(input('Enter first number: '))\n",
        "num2 = float(input('Enter second number: '))\n",
        "\n",
        "# Perform calculations\n",
        "sum_result = num1 + num2\n",
        "diff_result = num1 - num2\n",
        "prod_result = num1 * num2\n",
        "div_result = num1 / num2\n",
        "\n",
        "# Display results\n",
        "print('Sum:', sum_result)\n",
        "print('Difference:', diff_result)\n",
        "print('Product:', prod_result)\n",
        "print('Division:', div_result)\n"
      ],
      "metadata": {
        "colab": {
          "base_uri": "https://localhost:8080/"
        },
        "id": "apTjFSKtlb6j",
        "outputId": "6a33ec9c-f181-45c6-f1d9-0b144eff56f2"
      },
      "execution_count": null,
      "outputs": [
        {
          "output_type": "stream",
          "name": "stdout",
          "text": [
            "Enter first number: 3\n",
            "Enter second number: 5\n",
            "Sum: 8.0\n",
            "Difference: -2.0\n",
            "Product: 15.0\n",
            "Division: 0.6\n"
          ]
        }
      ]
    },
    {
      "cell_type": "code",
      "source": [
        "class Counter:\n",
        "    def __init__(self, value=0):\n",
        "        self.value = value\n",
        "\n",
        "    # Overloading the addition operator to simulate ++\n",
        "    def __add__(self, other):\n",
        "        if isinstance(other, int) and other == 1:\n",
        "            self.value += 1\n",
        "        return self\n",
        "\n",
        "    # Overloading the subtraction operator to simulate --\n",
        "    def __sub__(self, other):\n",
        "        if isinstance(other, int) and other == 1:\n",
        "            self.value -= 1\n",
        "        return self\n",
        "\n",
        "    # String representation for easy printing\n",
        "    def __str__(self):\n",
        "        return str(self.value)\n",
        "\n",
        "# Usage example\n",
        "counter = Counter(10)\n",
        "\n",
        "# Simulating counter++\n",
        "counter += 1\n",
        "print(counter)\n",
        "\n",
        "# Simulating counter--\n",
        "counter -= 1\n",
        "print(counter)\n"
      ],
      "metadata": {
        "id": "rDpOdYtPlyZb",
        "colab": {
          "base_uri": "https://localhost:8080/"
        },
        "outputId": "125a1796-7493-4124-96e7-de19994c1e6e"
      },
      "execution_count": null,
      "outputs": [
        {
          "output_type": "stream",
          "name": "stdout",
          "text": [
            "11\n",
            "10\n"
          ]
        }
      ]
    },
    {
      "cell_type": "code",
      "source": [
        "# Function to check if two numbers are equal\n",
        "def are_numbers_equal(num1, num2):\n",
        "    if num1 == num2:\n",
        "        return True\n",
        "    else:\n",
        "        return False\n",
        "\n",
        "# Main program\n",
        "number1 = float(input(\"Enter the first number: \"))\n",
        "number2 = float(input(\"Enter the second number: \"))\n",
        "\n",
        "if are_numbers_equal(number1, number2):\n",
        "    print(\"The two numbers are equal.\")\n",
        "else:\n",
        "    print(\"The two numbers are not equal.\")\n"
      ],
      "metadata": {
        "colab": {
          "base_uri": "https://localhost:8080/"
        },
        "id": "ZFuj-v6idVAM",
        "outputId": "574c3176-116d-4c32-a68e-1e6aec92b27d"
      },
      "execution_count": null,
      "outputs": [
        {
          "output_type": "stream",
          "name": "stdout",
          "text": [
            "Enter the first number: 3\n",
            "Enter the second number: 4\n",
            "The two numbers are not equal.\n"
          ]
        }
      ]
    },
    {
      "cell_type": "code",
      "source": [
        "# Function to compare two numbers using relational operators\n",
        "def compare_numbers(num1, num2):\n",
        "    print(f\"{num1} < {num2}  : {num1 < num2}\")\n",
        "    print(f\"{num1} <= {num2} : {num1 <= num2}\")\n",
        "    print(f\"{num1} > {num2}  : {num1 > num2}\")\n",
        "    print(f\"{num1} >= {num2} : {num1 >= num2}\")\n",
        "\n",
        "# Main program\n",
        "number1 = float(input(\"Enter the first number: \"))\n",
        "number2 = float(input(\"Enter the second number: \"))\n",
        "\n",
        "compare_numbers(number1, number2)\n"
      ],
      "metadata": {
        "colab": {
          "base_uri": "https://localhost:8080/"
        },
        "id": "Ko9MzcQ5dgmJ",
        "outputId": "b73a5ea6-81c1-4543-996b-352a3c8d3500"
      },
      "execution_count": null,
      "outputs": [
        {
          "output_type": "stream",
          "name": "stdout",
          "text": [
            "Enter the first number: 4\n",
            "Enter the second number: 5\n",
            "4.0 < 5.0  : True\n",
            "4.0 <= 5.0 : True\n",
            "4.0 > 5.0  : False\n",
            "4.0 >= 5.0 : False\n"
          ]
        }
      ]
    },
    {
      "cell_type": "code",
      "source": [
        "# Function to compare two numbers and print the smaller and larger one\n",
        "def compare_numbers(num1, num2):\n",
        "    # Print comparisons using relational operators\n",
        "    print(f\"{num1} < {num2}  : {num1 < num2}\")\n",
        "    print(f\"{num1} <= {num2} : {num1 <= num2}\")\n",
        "    print(f\"{num1} > {num2}  : {num1 > num2}\")\n",
        "    print(f\"{num1} >= {num2} : {num1 >= num2}\")\n",
        "\n",
        "    # Determine and print the smaller and larger number\n",
        "    if num1 < num2:\n",
        "        print(f\"The smaller number is: {num1}\")\n",
        "        print(f\"The larger number is: {num2}\")\n",
        "    elif num1 > num2:\n",
        "        print(f\"The smaller number is: {num2}\")\n",
        "        print(f\"The larger number is: {num1}\")\n",
        "    else:\n",
        "        print(\"Both numbers are equal.\")\n",
        "\n",
        "# Main program\n",
        "number1 = float(input(\"Enter the first number: \"))\n",
        "number2 = float(input(\"Enter the second number: \"))\n",
        "\n",
        "compare_numbers(number1, number2)\n"
      ],
      "metadata": {
        "colab": {
          "base_uri": "https://localhost:8080/"
        },
        "id": "6APTIQuReA6v",
        "outputId": "6523a835-902d-4567-d269-543aea4a2b22"
      },
      "execution_count": null,
      "outputs": [
        {
          "output_type": "stream",
          "name": "stdout",
          "text": [
            "Enter the first number: 4\n",
            "Enter the second number: 5\n",
            "4.0 < 5.0  : True\n",
            "4.0 <= 5.0 : True\n",
            "4.0 > 5.0  : False\n",
            "4.0 >= 5.0 : False\n",
            "The smaller number is: 4.0\n",
            "The larger number is: 5.0\n"
          ]
        }
      ]
    }
  ]
}