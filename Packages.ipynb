{
  "nbformat": 4,
  "nbformat_minor": 0,
  "metadata": {
    "colab": {
      "provenance": [],
      "authorship_tag": "ABX9TyOH1z/9e6jA1HXXQ97kl1Hn",
      "include_colab_link": true
    },
    "kernelspec": {
      "name": "python3",
      "display_name": "Python 3"
    },
    "language_info": {
      "name": "python"
    }
  },
  "cells": [
    {
      "cell_type": "markdown",
      "metadata": {
        "id": "view-in-github",
        "colab_type": "text"
      },
      "source": [
        "<a href=\"https://colab.research.google.com/github/rajusandrapati/python-aasignments/blob/main/Packages.ipynb\" target=\"_parent\"><img src=\"https://colab.research.google.com/assets/colab-badge.svg\" alt=\"Open In Colab\"/></a>"
      ]
    },
    {
      "cell_type": "code",
      "execution_count": null,
      "metadata": {
        "id": "YIYirShFokts"
      },
      "outputs": [],
      "source": [
        "# 1. Create a program to create two class.\n",
        "# 1.1. Create a constructor and a method for each class\n",
        "# 1.2. Create a __init__.py for adding all packages\n",
        "# 1.3. Import the respective packages\n",
        "# 1.4. Call each class by creating an object to it\n",
        "# 1.5. Create a program by all the above"
      ]
    },
    {
      "cell_type": "code",
      "source": [
        "# class_one.py\n",
        "class ClassOne:\n",
        "    def __init__(self, name):\n",
        "        self.name = name  # Constructor to initialize the 'name' attribute\n",
        "\n",
        "    def greet(self):\n",
        "        # Method to print a greeting message\n",
        "        print(f\"Hello from ClassOne, {self.name}!\")\n",
        "\n"
      ],
      "metadata": {
        "id": "7J7E12O1pClt"
      },
      "execution_count": null,
      "outputs": []
    },
    {
      "cell_type": "code",
      "source": [
        "# class_two.py\n",
        "class ClassTwo:\n",
        "    def __init__(self, age):\n",
        "        self.age = age  # Constructor to initialize the 'age' attribute\n",
        "\n",
        "    def celebrate(self):\n",
        "        # Method to print a message celebrating the age\n",
        "        print(f\"Happy {self.age}th birthday from ClassTwo!\")\n"
      ],
      "metadata": {
        "id": "WmCyTBfhpWXp"
      },
      "execution_count": null,
      "outputs": []
    },
    {
      "cell_type": "code",
      "source": [
        "#__init__.py\n"
      ],
      "metadata": {
        "id": "2hMPqfcypk4l"
      },
      "execution_count": null,
      "outputs": []
    },
    {
      "cell_type": "code",
      "source": [
        "# main_program.py\n",
        "\n",
        "# Importing classes from the package\n",
        "from my_package.class_one import ClassOne\n",
        "from my_package.class_two import ClassTwo\n",
        "\n",
        "def main():\n",
        "    # Create an instance of ClassOne\n",
        "    obj_one = ClassOne(\"Alice\")\n",
        "    obj_one.greet()  # Output: Hello from ClassOne, Alice!\n",
        "\n",
        "    # Create an instance of ClassTwo\n",
        "    obj_two = ClassTwo(30)\n",
        "    obj_two.celebrate()  # Output: Happy 30th birthday from ClassTwo!\n",
        "\n",
        "if __name__ == \"__main__\":\n",
        "    main()\n",
        "\n"
      ],
      "metadata": {
        "colab": {
          "base_uri": "https://localhost:8080/",
          "height": 401
        },
        "id": "vvpywJm5pwst",
        "outputId": "a5c10aae-9636-4d4e-cb7b-da13aed2506a"
      },
      "execution_count": null,
      "outputs": [
        {
          "output_type": "error",
          "ename": "ModuleNotFoundError",
          "evalue": "No module named 'my_package'",
          "traceback": [
            "\u001b[0;31m---------------------------------------------------------------------------\u001b[0m",
            "\u001b[0;31mModuleNotFoundError\u001b[0m                       Traceback (most recent call last)",
            "\u001b[0;32m<ipython-input-7-fa5cab9970ff>\u001b[0m in \u001b[0;36m<cell line: 4>\u001b[0;34m()\u001b[0m\n\u001b[1;32m      2\u001b[0m \u001b[0;34m\u001b[0m\u001b[0m\n\u001b[1;32m      3\u001b[0m \u001b[0;31m# Importing classes from the package\u001b[0m\u001b[0;34m\u001b[0m\u001b[0;34m\u001b[0m\u001b[0m\n\u001b[0;32m----> 4\u001b[0;31m \u001b[0;32mfrom\u001b[0m \u001b[0mmy_package\u001b[0m\u001b[0;34m.\u001b[0m\u001b[0mclass_one\u001b[0m \u001b[0;32mimport\u001b[0m \u001b[0mClassOne\u001b[0m\u001b[0;34m\u001b[0m\u001b[0;34m\u001b[0m\u001b[0m\n\u001b[0m\u001b[1;32m      5\u001b[0m \u001b[0;32mfrom\u001b[0m \u001b[0mmy_package\u001b[0m\u001b[0;34m.\u001b[0m\u001b[0mclass_two\u001b[0m \u001b[0;32mimport\u001b[0m \u001b[0mClassTwo\u001b[0m\u001b[0;34m\u001b[0m\u001b[0;34m\u001b[0m\u001b[0m\n\u001b[1;32m      6\u001b[0m \u001b[0;34m\u001b[0m\u001b[0m\n",
            "\u001b[0;31mModuleNotFoundError\u001b[0m: No module named 'my_package'",
            "",
            "\u001b[0;31m---------------------------------------------------------------------------\u001b[0;32m\nNOTE: If your import is failing due to a missing package, you can\nmanually install dependencies using either !pip or !apt.\n\nTo view examples of installing some common dependencies, click the\n\"Open Examples\" button below.\n\u001b[0;31m---------------------------------------------------------------------------\u001b[0m\n"
          ],
          "errorDetails": {
            "actions": [
              {
                "action": "open_url",
                "actionText": "Open Examples",
                "url": "/notebooks/snippets/importing_libraries.ipynb"
              }
            ]
          }
        }
      ]
    }
  ]
}