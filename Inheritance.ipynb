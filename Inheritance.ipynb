{
  "nbformat": 4,
  "nbformat_minor": 0,
  "metadata": {
    "colab": {
      "provenance": [],
      "authorship_tag": "ABX9TyOhJjsUzDhCrQkwM21fwWZo",
      "include_colab_link": true
    },
    "kernelspec": {
      "name": "python3",
      "display_name": "Python 3"
    },
    "language_info": {
      "name": "python"
    }
  },
  "cells": [
    {
      "cell_type": "markdown",
      "metadata": {
        "id": "view-in-github",
        "colab_type": "text"
      },
      "source": [
        "<a href=\"https://colab.research.google.com/github/rajusandrapati/python-aasignments/blob/main/Inheritance.ipynb\" target=\"_parent\"><img src=\"https://colab.research.google.com/assets/colab-badge.svg\" alt=\"Open In Colab\"/></a>"
      ]
    },
    {
      "cell_type": "code",
      "source": [
        "# A, B and C are classes\n",
        "# A is a super class. B is a sub class of A. C is a sub class of B.\n",
        "# Create three methods in each class, 2 methods are specific to each class and third\n",
        "# method (override method) should be in all three Classes A, B and C\n",
        "# Create a class with main method. Create an object for each class A, B and C in main\n",
        "# method and call every method of each class using its own object/instance.\n",
        "# Call an overridden method with super class reference to B and C class’s objects\n",
        "# Runtime Polymorphism with Data Members/Instance variables, Repeat the above\n",
        "# process only for data member"
      ],
      "metadata": {
        "id": "a19AofbQmaLi"
      },
      "execution_count": null,
      "outputs": []
    },
    {
      "cell_type": "code",
      "execution_count": null,
      "metadata": {
        "colab": {
          "base_uri": "https://localhost:8080/"
        },
        "id": "EDRhw3Nel9o5",
        "outputId": "5c938d44-2e79-45ef-dc83-a286e08a75d4"
      },
      "outputs": [
        {
          "output_type": "stream",
          "name": "stdout",
          "text": [
            "Display Inside class A \n",
            "Print Inside class B\n",
            "Show Inside class C \n"
          ]
        }
      ],
      "source": [
        "class A():\n",
        "    def display(dp):\n",
        "        print(\"Display Inside class A \")\n",
        " # class A show method\n",
        "    def show(self):\n",
        "        print(\"Show Inside class A\")\n",
        "\n",
        "# Inherited or Sub class (Note A in bracket)\n",
        "class B (A):\n",
        "    def print(pt):\n",
        "        print(\"Print Inside class B\")\n",
        "    # class B show method\n",
        "    def show(self):\n",
        "        print(\"Show Inside class B\")\n",
        "\n",
        "# Inherited or Sub class (Note B in bracket)\n",
        "class C (B):\n",
        "\n",
        "    # class C show method\n",
        "    def show(self):\n",
        "        print(\"Show Inside class C \")\n",
        "\n",
        "# Driver code\n",
        "s = A()\n",
        "s.display()\n",
        "k= B()\n",
        "k.print()\n",
        "g = C()\n",
        "g.show()"
      ]
    },
    {
      "cell_type": "code",
      "source": [],
      "metadata": {
        "id": "BkgS_Ok-mYK2"
      },
      "execution_count": null,
      "outputs": []
    }
  ]
}