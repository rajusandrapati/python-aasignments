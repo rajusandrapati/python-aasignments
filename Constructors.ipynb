{
  "nbformat": 4,
  "nbformat_minor": 0,
  "metadata": {
    "colab": {
      "provenance": [],
      "authorship_tag": "ABX9TyP+9eQswgZ6EprDgtueHWWk",
      "include_colab_link": true
    },
    "kernelspec": {
      "name": "python3",
      "display_name": "Python 3"
    },
    "language_info": {
      "name": "python"
    }
  },
  "cells": [
    {
      "cell_type": "markdown",
      "metadata": {
        "id": "view-in-github",
        "colab_type": "text"
      },
      "source": [
        "<a href=\"https://colab.research.google.com/github/rajusandrapati/python-aasignments/blob/main/Constructors.ipynb\" target=\"_parent\"><img src=\"https://colab.research.google.com/assets/colab-badge.svg\" alt=\"Open In Colab\"/></a>"
      ]
    },
    {
      "cell_type": "code",
      "execution_count": null,
      "metadata": {
        "colab": {
          "base_uri": "https://localhost:8080/"
        },
        "id": "VGypkT1aKf_G",
        "outputId": "dc6b602b-793c-45ad-b7d1-bce3317a0fa5"
      },
      "outputs": [
        {
          "output_type": "stream",
          "name": "stdout",
          "text": [
            "Default constructor called\n",
            "One-argument constructor called with arg1: 10\n",
            "Two-argument constructor called with arg1: 10, arg2: 20\n"
          ]
        }
      ],
      "source": [
        "#. Write a Class with Multiple Constructors (Overloaded Constructors)\n",
        "\n",
        "class MyClass:\n",
        "    # Default constructor\n",
        "    def __init__(self, arg1=None, arg2=None):\n",
        "        if arg1 is None and arg2 is None:\n",
        "            print(\"Default constructor called\")\n",
        "        elif arg2 is None:\n",
        "            print(f\"One-argument constructor called with arg1: {arg1}\")\n",
        "        else:\n",
        "            print(f\"Two-argument constructor called with arg1: {arg1}, arg2: {arg2}\")\n",
        "\n",
        "# Main class to instantiate MyClass\n",
        "if __name__ == \"__main__\":\n",
        "    # Call default constructor\n",
        "    obj1 = MyClass()\n",
        "\n",
        "    # Call one-argument constructor\n",
        "    obj2 = MyClass(10)\n",
        "\n",
        "    # Call two-argument constructor\n",
        "    obj3 = MyClass(10, 20)\n",
        "\n",
        "\n",
        "\n"
      ]
    },
    {
      "cell_type": "code",
      "source": [
        "# . Call the constructors(both default and argument constructors) of super class from a child\n",
        "\n",
        "class SuperClass:\n",
        "    def __init__(self, arg1=None):\n",
        "        if arg1 is None:\n",
        "            print(\"SuperClass default constructor called\")\n",
        "        else:\n",
        "            print(f\"SuperClass one-argument constructor called with arg1: {arg1}\")\n",
        "\n",
        "class ChildClass(SuperClass):\n",
        "    def __init__(self, arg1=None, arg2=None):\n",
        "        if arg1 is None and arg2 is None:\n",
        "            super().__init__()  # Call default constructor of SuperClass\n",
        "            print(\"ChildClass default constructor called\")\n",
        "        elif arg2 is None:\n",
        "            super().__init__(arg1)  # Call one-argument constructor of SuperClass\n",
        "            print(f\"ChildClass one-argument constructor called with arg1: {arg1}\")\n",
        "        else:\n",
        "            super().__init__(arg1)  # Call one-argument constructor of SuperClass\n",
        "            print(f\"ChildClass two-argument constructor called with arg1: {arg1}, arg2: {arg2}\")\n",
        "\n",
        "if __name__ == \"__main__\":\n",
        "    # Instantiate ChildClass to call different constructors\n",
        "    child1 = ChildClass()\n",
        "    child2 = ChildClass(10)\n",
        "    child3 = ChildClass(10, 20)\n"
      ],
      "metadata": {
        "colab": {
          "base_uri": "https://localhost:8080/"
        },
        "id": "Qw7OVjpdLHls",
        "outputId": "7e0d3432-de41-4906-db93-b8c8d708bf33"
      },
      "execution_count": null,
      "outputs": [
        {
          "output_type": "stream",
          "name": "stdout",
          "text": [
            "SuperClass default constructor called\n",
            "ChildClass default constructor called\n",
            "SuperClass one-argument constructor called with arg1: 10\n",
            "ChildClass one-argument constructor called with arg1: 10\n",
            "SuperClass one-argument constructor called with arg1: 10\n",
            "ChildClass two-argument constructor called with arg1: 10, arg2: 20\n"
          ]
        }
      ]
    },
    {
      "cell_type": "code",
      "source": [
        "#  Apply Access Modifiers to Constructors\n",
        "\n",
        "class MyClass:\n",
        "    # Public constructor\n",
        "    def __init__(self, arg1=None):\n",
        "        self.public_attr = arg1\n",
        "        self._protected_attr = arg1\n",
        "        self.__private_attr = arg1\n",
        "        print(\"Constructor with public, protected, and private attributes called\")\n",
        "\n",
        "    # Public method\n",
        "    def public_method(self):\n",
        "        print(\"Public method called\")\n",
        "\n",
        "    # Protected method\n",
        "    def _protected_method(self):\n",
        "        print(\"Protected method called\")\n",
        "\n",
        "    # Private method\n",
        "    def __private_method(self):\n",
        "        print(\"Private method called\")\n",
        "\n",
        "if __name__ == \"__main__\":\n",
        "    obj = MyClass(10)\n",
        "    obj.public_method()  # Accessible\n",
        "    obj._protected_method()  # Accessible, but not recommended to access directly\n",
        "    # obj.__private_method()  # Not directly accessible; this would raise an AttributeError\n",
        "    # Accessing private method using name mangling\n",
        "    obj._MyClass__private_method()\n"
      ],
      "metadata": {
        "colab": {
          "base_uri": "https://localhost:8080/"
        },
        "id": "JtWsngGCLQ41",
        "outputId": "77683b8d-456b-4245-f538-b7fa96070d2a"
      },
      "execution_count": null,
      "outputs": [
        {
          "output_type": "stream",
          "name": "stdout",
          "text": [
            "Constructor with public, protected, and private attributes called\n",
            "Public method called\n",
            "Protected method called\n",
            "Private method called\n"
          ]
        }
      ]
    }
  ]
}