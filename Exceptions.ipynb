{
  "nbformat": 4,
  "nbformat_minor": 0,
  "metadata": {
    "colab": {
      "provenance": [],
      "authorship_tag": "ABX9TyM70SAGozhbwno88ldEFF9c",
      "include_colab_link": true
    },
    "kernelspec": {
      "name": "python3",
      "display_name": "Python 3"
    },
    "language_info": {
      "name": "python"
    }
  },
  "cells": [
    {
      "cell_type": "markdown",
      "metadata": {
        "id": "view-in-github",
        "colab_type": "text"
      },
      "source": [
        "<a href=\"https://colab.research.google.com/github/rajusandrapati/python-aasignments/blob/main/Exceptions.ipynb\" target=\"_parent\"><img src=\"https://colab.research.google.com/assets/colab-badge.svg\" alt=\"Open In Colab\"/></a>"
      ]
    },
    {
      "cell_type": "code",
      "execution_count": null,
      "metadata": {
        "id": "BF5Nc0QdNNLz"
      },
      "outputs": [],
      "source": [
        "# Exceptions\n",
        "\n"
      ]
    },
    {
      "cell_type": "code",
      "source": [
        "#2. Handle the Arithmetic exception using try-catch block\n",
        "\n",
        "# Program to handle Arithmetic Exception using try-except block\n",
        "try:\n",
        "    result = 10 / 0  # This will raise a ZeroDivisionError\n",
        "except ZeroDivisionError:\n",
        "    print(\"Caught an Arithmetic Exception: Division by zero is not allowed.\")\n"
      ],
      "metadata": {
        "colab": {
          "base_uri": "https://localhost:8080/"
        },
        "id": "1AGm6_G8NQSt",
        "outputId": "88d2aea6-1024-4a09-892e-dab280b14c4e"
      },
      "execution_count": null,
      "outputs": [
        {
          "output_type": "stream",
          "name": "stdout",
          "text": [
            "Caught an Arithmetic Exception: Division by zero is not allowed.\n"
          ]
        }
      ]
    },
    {
      "cell_type": "code",
      "source": [
        "# Write a method which throws exception, Call that method in main class without try block\n",
        " def throw_exception():\n",
        "    raise Exception(\"This is an exception from throw_exception()\")\n",
        "\n",
        "if __name__ == \"__main__\":\n",
        "    throw_exception()  # This will raise an exception and terminate the program\n"
      ],
      "metadata": {
        "colab": {
          "base_uri": "https://localhost:8080/",
          "height": 110
        },
        "id": "uW7aYZWSNQtE",
        "outputId": "8f5d199d-e976-4c33-f89a-ef704d9a09a9"
      },
      "execution_count": null,
      "outputs": [
        {
          "output_type": "error",
          "ename": "IndentationError",
          "evalue": "unexpected indent (<ipython-input-5-3a3e99468dad>, line 2)",
          "traceback": [
            "\u001b[0;36m  File \u001b[0;32m\"<ipython-input-5-3a3e99468dad>\"\u001b[0;36m, line \u001b[0;32m2\u001b[0m\n\u001b[0;31m    def throw_exception():\u001b[0m\n\u001b[0m    ^\u001b[0m\n\u001b[0;31mIndentationError\u001b[0m\u001b[0;31m:\u001b[0m unexpected indent\n"
          ]
        }
      ]
    },
    {
      "cell_type": "code",
      "source": [
        "#Write a program with multiple catch blocks\n",
        "\n",
        "# Program with multiple except blocks\n",
        "try:\n",
        "    num = int(input(\"Enter a number: \"))\n",
        "    result = 10 / num\n",
        "    my_list = [1, 2, 3]\n",
        "    print(my_list[5])  # This will raise an IndexError\n",
        "except ZeroDivisionError:\n",
        "    print(\"Caught a ZeroDivisionError: Division by zero is not allowed.\")\n",
        "except ValueError:\n",
        "    print(\"Caught a ValueError: Invalid input, not an integer.\")\n",
        "except IndexError:\n",
        "    print(\"Caught an IndexError: List index out of range.\")\n"
      ],
      "metadata": {
        "colab": {
          "base_uri": "https://localhost:8080/"
        },
        "id": "qEx_ut2ONREE",
        "outputId": "7c3dcea8-b715-4a0d-bc66-7834bd5ba656"
      },
      "execution_count": null,
      "outputs": [
        {
          "output_type": "stream",
          "name": "stdout",
          "text": [
            "Enter a number: 4\n",
            "Caught an IndexError: List index out of range.\n"
          ]
        }
      ]
    },
    {
      "cell_type": "code",
      "source": [
        "#Write a program to throw exception with your own message\n",
        "\n",
        "# Program to throw exception with your own message\n",
        "def check_value(value):\n",
        "    if value < 0:\n",
        "        raise ValueError(\"Negative value is not allowed!\")\n",
        "\n",
        "if __name__ == \"__main__\":\n",
        "    check_value(-10)  # This will raise an exception with the custom message\n"
      ],
      "metadata": {
        "id": "SnxRM0fINR0T"
      },
      "execution_count": null,
      "outputs": []
    },
    {
      "cell_type": "code",
      "source": [
        "# Write a program to create your own exception\n",
        "\n",
        "# Define your own exception\n",
        "class MyCustomException(Exception):\n",
        "    pass\n",
        "\n",
        "def raise_custom_exception():\n",
        "    raise MyCustomException(\"This is a custom exception!\")\n",
        "\n",
        "if __name__ == \"__main__\":\n",
        "    raise_custom_exception()  # This will raise the custom exception\n"
      ],
      "metadata": {
        "id": "Dn46fckLNSJM"
      },
      "execution_count": null,
      "outputs": []
    },
    {
      "cell_type": "code",
      "source": [
        "#Write a program with finally block\n",
        "# Program with finally block\n",
        "try:\n",
        "    result = 10 / 0  # This will raise a ZeroDivisionError\n",
        "except ZeroDivisionError:\n",
        "    print(\"Caught a ZeroDivisionError\")\n",
        "finally:\n",
        "    print(\"This will always execute, even if an exception occurred.\")\n",
        "\n"
      ],
      "metadata": {
        "id": "fz_SzwrQNSY8"
      },
      "execution_count": null,
      "outputs": []
    },
    {
      "cell_type": "code",
      "source": [
        "# Write a program to generate Arithmetic Exception\n",
        "\n",
        "result = 10 / 0  # This will raise a ZeroDivisionError\n"
      ],
      "metadata": {
        "id": "F2KIPzMbNTCE"
      },
      "execution_count": null,
      "outputs": []
    },
    {
      "cell_type": "code",
      "source": [
        "# Write a program to generate FileNotFoundException\n",
        "\n",
        "with open(\"non_existent_file.txt\", \"r\") as file:\n",
        "    content = file.read()  # This will raise a FileNotFoundError\n"
      ],
      "metadata": {
        "id": "1K26luHeNTlp"
      },
      "execution_count": null,
      "outputs": []
    },
    {
      "cell_type": "code",
      "source": [
        " #Write a program to generate ClassNotFoundException\n",
        "\n",
        "\n",
        "try:\n",
        "    import non_existent_module  # This will raise an ImportError\n",
        "except ImportError:\n",
        "    print(\"Caught ImportError: Module not found.\")\n"
      ],
      "metadata": {
        "id": "lFJZk37MNUK3"
      },
      "execution_count": null,
      "outputs": []
    },
    {
      "cell_type": "code",
      "source": [
        " #Write a program to generate IOException\n",
        "\n",
        "try:\n",
        "    file = open(\"sample.txt\", \"w\")\n",
        "    file.close()\n",
        "    file.write(\"This will raise an IOError\")  # Attempt to write to a closed file\n",
        "except IOError:\n",
        "    print(\"Caught IOError: File operation failed.\")\n"
      ],
      "metadata": {
        "id": "UNkKjQVDNUdP"
      },
      "execution_count": null,
      "outputs": []
    },
    {
      "cell_type": "code",
      "source": [
        "# Write a program to generate NoSuchFieldException\n",
        "\n",
        "\n",
        "class MyClass:\n",
        "    def __init__(self):\n",
        "        self.existing_field = 10\n",
        "\n",
        "if __name__ == \"__main__\":\n",
        "    obj = MyClass()\n",
        "    print(obj.non_existent_field)  # This will raise an AttributeError\n"
      ],
      "metadata": {
        "id": "jrNg9MO0NUtf"
      },
      "execution_count": null,
      "outputs": []
    },
    {
      "cell_type": "code",
      "source": [],
      "metadata": {
        "id": "D9Wa0YGgNVgw"
      },
      "execution_count": null,
      "outputs": []
    }
  ]
}