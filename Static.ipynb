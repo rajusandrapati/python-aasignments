{
  "nbformat": 4,
  "nbformat_minor": 0,
  "metadata": {
    "colab": {
      "provenance": [],
      "authorship_tag": "ABX9TyNfstaZTtXRiq8AHBXKBXwR",
      "include_colab_link": true
    },
    "kernelspec": {
      "name": "python3",
      "display_name": "Python 3"
    },
    "language_info": {
      "name": "python"
    }
  },
  "cells": [
    {
      "cell_type": "markdown",
      "metadata": {
        "id": "view-in-github",
        "colab_type": "text"
      },
      "source": [
        "<a href=\"https://colab.research.google.com/github/rajusandrapati/python-aasignments/blob/main/Static.ipynb\" target=\"_parent\"><img src=\"https://colab.research.google.com/assets/colab-badge.svg\" alt=\"Open In Colab\"/></a>"
      ]
    },
    {
      "cell_type": "code",
      "execution_count": null,
      "metadata": {
        "colab": {
          "base_uri": "https://localhost:8080/"
        },
        "id": "NT8JigfKfcIe",
        "outputId": "fffc7144-b1ef-4f04-f585-e52816fd5e94"
      },
      "outputs": [
        {
          "output_type": "stream",
          "name": "stdout",
          "text": [
            "42\n"
          ]
        }
      ],
      "source": [
        "# 1. Define a Static Variable and Access It Through the Class\n",
        "\n",
        "class MyClass:\n",
        "    static_variable = 42  # Static variable\n",
        "\n",
        "# Accessing the static variable through the class\n",
        "print(MyClass.static_variable)\n"
      ]
    },
    {
      "cell_type": "code",
      "source": [
        "# 2. Define a Static Variable and Access It Through an Instance\n",
        "\n",
        "class MyClass:\n",
        "    static_variable = 42  # Static variable\n",
        "\n",
        "# Creating an instance of the class\n",
        "instance = MyClass()\n",
        "\n",
        "# Accessing the static variable through the instance\n",
        "print(instance.static_variable)\n"
      ],
      "metadata": {
        "colab": {
          "base_uri": "https://localhost:8080/"
        },
        "id": "3uLShaswfzHO",
        "outputId": "edd69a8a-f055-4d53-8eac-f147528c165a"
      },
      "execution_count": null,
      "outputs": [
        {
          "output_type": "stream",
          "name": "stdout",
          "text": [
            "42\n"
          ]
        }
      ]
    },
    {
      "cell_type": "code",
      "source": [
        " # Define a Static Variable and Change It Within the Instance\n",
        "\n",
        "class MyClass:\n",
        "    static_variable = 42  # Static variable\n",
        "\n",
        "# Creating an instance of the class\n",
        "instance = MyClass()\n",
        "\n",
        "# Changing the static variable within the instance\n",
        "instance.static_variable = 100  # This creates a new instance variable\n",
        "\n",
        "# Accessing the static variable through the class\n",
        "print(MyClass.static_variable)\n",
        "\n",
        "# Accessing the instance variable\n",
        "print(instance.static_variable)\n"
      ],
      "metadata": {
        "colab": {
          "base_uri": "https://localhost:8080/"
        },
        "id": "t2qzAJKef_uL",
        "outputId": "ff575490-1364-4ef8-edef-a53eed1cebd9"
      },
      "execution_count": null,
      "outputs": [
        {
          "output_type": "stream",
          "name": "stdout",
          "text": [
            "42\n",
            "100\n"
          ]
        }
      ]
    },
    {
      "cell_type": "code",
      "source": [
        "# Define a Static Variable and Change It Within the Class\n",
        "\n",
        "class MyClass:\n",
        "    static_variable = 42  # Static variable\n",
        "\n",
        "# Changing the static variable within the class\n",
        "MyClass.static_variable = 100\n",
        "\n",
        "# Accessing the static variable through the class\n",
        "print(MyClass.static_variable)  # Output: 100\n",
        "\n",
        "# Creating a new instance of the class\n",
        "instance = MyClass()\n",
        "\n",
        "# Accessing the static variable through the instance\n",
        "print(instance.static_variable)\n"
      ],
      "metadata": {
        "colab": {
          "base_uri": "https://localhost:8080/"
        },
        "id": "1OvUNbhHgak0",
        "outputId": "18435f2e-9357-4a43-c447-1269c57ddc89"
      },
      "execution_count": null,
      "outputs": [
        {
          "output_type": "stream",
          "name": "stdout",
          "text": [
            "100\n",
            "100\n"
          ]
        }
      ]
    }
  ]
}