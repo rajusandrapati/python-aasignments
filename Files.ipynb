{
  "nbformat": 4,
  "nbformat_minor": 0,
  "metadata": {
    "colab": {
      "provenance": [],
      "authorship_tag": "ABX9TyPTAgbJ+u+A0dEJGwrxqAkR",
      "include_colab_link": true
    },
    "kernelspec": {
      "name": "python3",
      "display_name": "Python 3"
    },
    "language_info": {
      "name": "python"
    }
  },
  "cells": [
    {
      "cell_type": "markdown",
      "metadata": {
        "id": "view-in-github",
        "colab_type": "text"
      },
      "source": [
        "<a href=\"https://colab.research.google.com/github/rajusandrapati/python-aasignments/blob/main/Files.ipynb\" target=\"_parent\"><img src=\"https://colab.research.google.com/assets/colab-badge.svg\" alt=\"Open In Colab\"/></a>"
      ]
    },
    {
      "cell_type": "code",
      "execution_count": null,
      "metadata": {
        "colab": {
          "base_uri": "https://localhost:8080/"
        },
        "id": "dsARzPc204OM",
        "outputId": "6eb766e5-2688-48f6-f008-1af9c001bbed"
      },
      "outputs": [
        {
          "output_type": "stream",
          "name": "stdout",
          "text": [
            "Hello world\n"
          ]
        }
      ],
      "source": [
        "# Write a program to read text file\n",
        "\n",
        "f = open('sample.txt','w')\n",
        "f.write('Hello world')\n",
        "f.close()\n",
        "\n",
        "f = open('/content/sample.txt','r')\n",
        "s = f.read()\n",
        "print(s)\n",
        "f.close()"
      ]
    },
    {
      "cell_type": "code",
      "source": [
        "# Program to write text to a .txt file using input from the user\n",
        "\n",
        "with open(\"'sample.txt'\", \"w\") as file:\n",
        "    user_input = input(\"Enter text to write to the file: \")\n",
        "    file.write(user_input)\n"
      ],
      "metadata": {
        "colab": {
          "base_uri": "https://localhost:8080/"
        },
        "id": "C1KOXPgI1DMS",
        "outputId": "cd6b293a-6b10-49e7-c97b-3e62025861a4"
      },
      "execution_count": null,
      "outputs": [
        {
          "name": "stdout",
          "output_type": "stream",
          "text": [
            "Enter text to write to the file: hello\n"
          ]
        }
      ]
    },
    {
      "cell_type": "code",
      "source": [
        "# Write a program to read a file stream\n",
        "# Program to read a file stream\n",
        "\n",
        "with open(\"sample.txt\", \"r\") as file:\n",
        "    content = file.read()  # Read the entire content of the file\n",
        "    print(content)\n",
        "\n",
        "\n"
      ],
      "metadata": {
        "colab": {
          "base_uri": "https://localhost:8080/"
        },
        "id": "OJTVadHA1GFH",
        "outputId": "f89177b5-5b11-4e9b-a194-82527f8c63fa"
      },
      "execution_count": null,
      "outputs": [
        {
          "output_type": "stream",
          "name": "stdout",
          "text": [
            "Hello world\n"
          ]
        }
      ]
    },
    {
      "cell_type": "code",
      "source": [
        "# Program to read a file stream with random access\n",
        "\n",
        "# Open the file in read mode\n",
        "with open(\"sample.txt\", \"r\") as file:\n",
        "    # Move to the 10th byte in the file\n",
        "    file.seek(10)\n",
        "    # Read 20 bytes from this position\n",
        "    content = file.read(20)\n",
        "    print(\"Content read from position 10:\", content)\n",
        "\n",
        "    # Move to the beginning of the file\n",
        "    file.seek(0)\n",
        "    print(\"Content from the start of the file:\", file.read(10))\n",
        "\n",
        "    # Move to the end of the file\n",
        "    file.seek(0, 2)  # 0 bytes from the end of the file\n",
        "    position = file.tell()  # Get the current file pointer position\n",
        "    print(\"Current file pointer position at the end:\", position)\n"
      ],
      "metadata": {
        "colab": {
          "base_uri": "https://localhost:8080/"
        },
        "id": "TNxgIvG66_Ib",
        "outputId": "98f9d351-0121-4da9-ffa6-8ae6b5b87e94"
      },
      "execution_count": null,
      "outputs": [
        {
          "output_type": "stream",
          "name": "stdout",
          "text": [
            "Content read from position 10: d\n",
            "Content from the start of the file: Hello worl\n",
            "Current file pointer position at the end: 11\n"
          ]
        }
      ]
    },
    {
      "cell_type": "code",
      "source": [
        "\n",
        "# Write a program to read a file a just to a particular index using seek()\n",
        "\n",
        "# Program to read a file and jump to a particular index using seek()\n",
        "\n",
        "# Open the file in read mode\n",
        "with open(\"sample.txt\", \"r\") as file:\n",
        "    # Specify the index (byte position) to jump to\n",
        "    index = 15  # Example: move to the 15th byte\n",
        "\n",
        "    # Move the file pointer to the specified index\n",
        "    file.seek(index)\n",
        "\n",
        "    # Read from this position onwards\n",
        "    content = file.read(10)  # Read the next 10 bytes from this position\n",
        "    print(f\"Content read from index {index}: {content}\")\n"
      ],
      "metadata": {
        "colab": {
          "base_uri": "https://localhost:8080/"
        },
        "id": "dPor_x7l1Ikv",
        "outputId": "4ef31e82-932c-4fa1-f050-8e37aaa83e35"
      },
      "execution_count": null,
      "outputs": [
        {
          "output_type": "stream",
          "name": "stdout",
          "text": [
            "Content read from index 15: \n"
          ]
        }
      ]
    },
    {
      "cell_type": "code",
      "source": [
        "# Program to read a file and jump to a particular index using seek()\n",
        "\n",
        "with open(\"example.txt\", \"r\") as file:\n",
        "    index = 15  # Example index to jump to\n",
        "    file.seek(index)\n",
        "    content = file.read(10)  # Read 10 characters from the given index\n",
        "    print(content)\n"
      ],
      "metadata": {
        "id": "ZVhqrhAA1NIX"
      },
      "execution_count": null,
      "outputs": []
    },
    {
      "cell_type": "code",
      "source": [
        "import os\n",
        "\n",
        "# Program to check whether a file has read and write access permissions\n",
        "\n",
        "file_path = \"example.txt\"\n",
        "\n",
        "# Check read permission\n",
        "if os.access(file_path, os.R_OK):\n",
        "    print(f\"{file_path} has read access\")\n",
        "else:\n",
        "    print(f\"{file_path} does not have read access\")\n",
        "\n",
        "# Check write permission\n",
        "if os.access(file_path, os.W_OK):\n",
        "    print(f\"{file_path} has write access\")\n",
        "else:\n",
        "    print(f\"{file_path} does not have write access\")\n"
      ],
      "metadata": {
        "id": "22oL9dgl1Twq"
      },
      "execution_count": null,
      "outputs": []
    },
    {
      "cell_type": "code",
      "source": [
        "import os\n",
        "\n",
        "# Program to check whether a file has read and write access permissions\n",
        "\n",
        "file_path = \"sample.txt\"  # Replace with the path to your file\n",
        "\n",
        "# Check if the file has read access\n",
        "if os.access(file_path, os.R_OK):\n",
        "    print(f\"The file '{file_path}' has read access.\")\n",
        "else:\n",
        "    print(f\"The file '{file_path}' does not have read access.\")\n",
        "\n",
        "# Check if the file has write access\n",
        "if os.access(file_path, os.W_OK):\n",
        "    print(f\"The file '{file_path}' has write access.\")\n",
        "else:\n",
        "    print(f\"The file '{file_path}' does not have write access.\")\n"
      ],
      "metadata": {
        "colab": {
          "base_uri": "https://localhost:8080/"
        },
        "id": "sR1iPcSC7DY3",
        "outputId": "a8baf2cf-eb90-4478-faa8-1bfc14bed234"
      },
      "execution_count": null,
      "outputs": [
        {
          "output_type": "stream",
          "name": "stdout",
          "text": [
            "The file 'sample.txt' has read access.\n",
            "The file 'sample.txt' has write access.\n"
          ]
        }
      ]
    },
    {
      "cell_type": "code",
      "source": [],
      "metadata": {
        "id": "kvGVlok78BlY"
      },
      "execution_count": null,
      "outputs": []
    },
    {
      "cell_type": "code",
      "source": [],
      "metadata": {
        "id": "2xFnKVH48xxF"
      },
      "execution_count": null,
      "outputs": []
    },
    {
      "cell_type": "code",
      "source": [],
      "metadata": {
        "id": "v2mCRyUH9gZk"
      },
      "execution_count": null,
      "outputs": []
    }
  ]
}