{
  "nbformat": 4,
  "nbformat_minor": 0,
  "metadata": {
    "colab": {
      "provenance": [],
      "authorship_tag": "ABX9TyPaxG2J+LgYMryXSgmiNg2M",
      "include_colab_link": true
    },
    "kernelspec": {
      "name": "python3",
      "display_name": "Python 3"
    },
    "language_info": {
      "name": "python"
    }
  },
  "cells": [
    {
      "cell_type": "markdown",
      "metadata": {
        "id": "view-in-github",
        "colab_type": "text"
      },
      "source": [
        "<a href=\"https://colab.research.google.com/github/rajusandrapati/python-aasignments/blob/main/Abstract_class.ipynb\" target=\"_parent\"><img src=\"https://colab.research.google.com/assets/colab-badge.svg\" alt=\"Open In Colab\"/></a>"
      ]
    },
    {
      "cell_type": "code",
      "execution_count": null,
      "metadata": {
        "id": "aPPINO4qoBNJ"
      },
      "outputs": [],
      "source": [
        "# 1. Create an abstract class with abstract and non-abstract methods.\n",
        "# 2. Create a sub class for an abstract class. Create an object in the child class for the\n",
        "# abstract class and access the non-abstract methods\n",
        "# 3. Create an instance for the child class in child class and call abstract methods\n",
        "# 4. Create an instance for the child class in child class and call non-abstract methods1. Create an abstract class with abstract and non-abstract methods.\n",
        "# 2. Create a sub class for an abstract class. Create an object in the child class for the\n",
        "# abstract class and access the non-abstract methods\n",
        "# 3. Create an instance for the child class in child class and call abstract methods\n",
        "# 4. Create an instance for the child class in child class and call non-abstract methods"
      ]
    },
    {
      "cell_type": "code",
      "source": [
        "from abc import ABC, abstractmethod\n",
        "\n",
        "class Polygon(ABC): #base class / super class\n",
        "\n",
        "    @abstractmethod\n",
        "    def noofsides(self):\n",
        "        pass\n",
        "\n",
        "class Triangle(Polygon): #subclass\n",
        "\n",
        "    # overriding abstract method\n",
        "    def noofsides(self):\n",
        "        print(\"Triangle: I have 3 sides\")\n",
        "\n",
        "class Pentagon(Polygon): #subclass\n",
        "\n",
        "    # overriding abstract method\n",
        "    def noofsides(self):\n",
        "        print(\"Pentagon: I have 5 sides\")\n",
        "\n",
        "class Hexagon(Polygon): #subclass\n",
        "\n",
        "    # overriding abstract method\n",
        "    def noofsides(self):\n",
        "        print(\"Hexagon: I have 6 sides\")\n",
        "\n",
        "class Quadrilateral(Polygon): #subclass\n",
        "\n",
        "    # overriding abstract method\n",
        "    def noofsides(self):\n",
        "        print(\"Quadrilateral: I have 4 sides\")\n",
        "\n",
        "# Driver code\n",
        "# Creating the objects to call the abstract method.\n",
        "R = Triangle()\n",
        "R.noofsides()\n",
        "\n",
        "K = Quadrilateral()\n",
        "K.noofsides()\n",
        "\n",
        "R = Pentagon()\n",
        "R.noofsides()\n",
        "\n",
        "K = Hexagon()\n",
        "K.noofsides()\n"
      ],
      "metadata": {
        "colab": {
          "base_uri": "https://localhost:8080/"
        },
        "id": "Wf7tEZdboG7B",
        "outputId": "59d492fb-9eaf-4e27-d501-d30a89f87944"
      },
      "execution_count": null,
      "outputs": [
        {
          "output_type": "stream",
          "name": "stdout",
          "text": [
            "Triangle: I have 3 sides\n",
            "Quadrilateral: I have 4 sides\n",
            "Pentagon: I have 5 sides\n",
            "Hexagon: I have 6 sides\n"
          ]
        }
      ]
    }
  ]
}