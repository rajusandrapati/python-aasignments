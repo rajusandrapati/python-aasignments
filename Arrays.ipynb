{
  "nbformat": 4,
  "nbformat_minor": 0,
  "metadata": {
    "colab": {
      "provenance": [],
      "authorship_tag": "ABX9TyMWJgo4wY5jHM/D9uvfmjXn",
      "include_colab_link": true
    },
    "kernelspec": {
      "name": "python3",
      "display_name": "Python 3"
    },
    "language_info": {
      "name": "python"
    }
  },
  "cells": [
    {
      "cell_type": "markdown",
      "metadata": {
        "id": "view-in-github",
        "colab_type": "text"
      },
      "source": [
        "<a href=\"https://colab.research.google.com/github/rajusandrapati/python-aasignments/blob/main/Arrays.ipynb\" target=\"_parent\"><img src=\"https://colab.research.google.com/assets/colab-badge.svg\" alt=\"Open In Colab\"/></a>"
      ]
    },
    {
      "cell_type": "code",
      "execution_count": null,
      "metadata": {
        "colab": {
          "base_uri": "https://localhost:8080/"
        },
        "id": "pAmRB_QBbxiR",
        "outputId": "8ac41215-6a0c-4d6c-cd46-c1ef59ca4ff6"
      },
      "outputs": [
        {
          "output_type": "stream",
          "name": "stdout",
          "text": [
            "Sum of the array: 15\n"
          ]
        }
      ],
      "source": [
        "# Write a function to add integer values of an array\n",
        "\n",
        "def sum_of_array(arr):\n",
        "    return sum(arr)\n",
        "\n",
        "my_array = [1, 2, 3, 4, 5]\n",
        "result = sum_of_array(my_array)\n",
        "print(\"Sum of the array:\", result)\n"
      ]
    },
    {
      "cell_type": "code",
      "source": [
        "# Write a function to calculate the average value of an array of integers\n",
        "\n",
        "def average_of_array(arr):\n",
        "    if len(arr) == 0:\n",
        "        return 0  # To handle empty array case\n",
        "    total = sum(arr)\n",
        "    average = total / len(arr)\n",
        "    return average\n",
        "\n",
        "\n",
        "my_array = [1, 2, 3, 4, 5]\n",
        "result = average_of_array(my_array)\n",
        "print(\"Average of the array:\", result)\n"
      ],
      "metadata": {
        "colab": {
          "base_uri": "https://localhost:8080/"
        },
        "id": "xgmW62xYc_74",
        "outputId": "9ae19e51-7b6f-43c8-b300-b4ee128aca96"
      },
      "execution_count": null,
      "outputs": [
        {
          "output_type": "stream",
          "name": "stdout",
          "text": [
            "Average of the array: 3.0\n"
          ]
        }
      ]
    },
    {
      "cell_type": "code",
      "source": [
        "# Write a program to find the index of an array element\n",
        "\n",
        "def find_index(arr, element):\n",
        "    for i in range(len(arr)):\n",
        "        if arr[i] == element:\n",
        "            return i\n",
        "    return -1  # Return -1 if the element is not found\n",
        "\n",
        "\n",
        "my_array = [10, 20, 30, 40, 50]\n",
        "element_to_find = 60\n",
        "\n",
        "result = find_index(my_array, element_to_find)\n",
        "if result != -1:\n",
        "    print(f\"Element {element_to_find} found at index: {result}\")\n",
        "else:\n",
        "    print(f\"Element {element_to_find} not found in the array.\")\n"
      ],
      "metadata": {
        "colab": {
          "base_uri": "https://localhost:8080/"
        },
        "id": "JtdIQspVeX9y",
        "outputId": "7f103744-af77-478d-f8c9-38c0b41a4cdc"
      },
      "execution_count": null,
      "outputs": [
        {
          "output_type": "stream",
          "name": "stdout",
          "text": [
            "Element 60 not found in the array.\n"
          ]
        }
      ]
    },
    {
      "cell_type": "code",
      "source": [
        "# Write a function to test if array contains a specific value\n",
        "\n",
        "def contains_value(arr, element):\n",
        "    for item in arr:\n",
        "        if item == element:\n",
        "            return True\n",
        "    return False\n",
        "\n",
        "\n",
        "my_array = [10, 20, 30, 40, 50]\n",
        "element_to_find = 30\n",
        "\n",
        "if contains_value(my_array, element_to_find):\n",
        "    print(\"Element is in the array.\")\n",
        "else:\n",
        "    print(\"Element is not in the array.\")\n",
        "\n"
      ],
      "metadata": {
        "colab": {
          "base_uri": "https://localhost:8080/"
        },
        "id": "w8gQ_EW2eydv",
        "outputId": "99577582-2e88-4409-c5c0-dfe09a58ef91"
      },
      "execution_count": null,
      "outputs": [
        {
          "output_type": "stream",
          "name": "stdout",
          "text": [
            "Element is in the array.\n"
          ]
        }
      ]
    },
    {
      "cell_type": "code",
      "source": [
        "# Write a function to remove a specific element from an array\n",
        "\n",
        "def remove_element(arr, element):\n",
        "    while element in arr:\n",
        "        arr.remove(element)\n",
        "    return arr\n",
        "\n",
        "my_array = [10, 20, 30, 40, 30, 50]\n",
        "element_to_remove = 30\n",
        "\n",
        "result = remove_element(my_array, element_to_remove)\n",
        "print(\"Array after removal:\", result)\n",
        "\n"
      ],
      "metadata": {
        "colab": {
          "base_uri": "https://localhost:8080/"
        },
        "id": "u5b3Gh99fPaV",
        "outputId": "b3928b29-ad1b-47cf-9232-4c5e9892e845"
      },
      "execution_count": null,
      "outputs": [
        {
          "output_type": "stream",
          "name": "stdout",
          "text": [
            "Array after removal: [10, 20, 40, 50]\n"
          ]
        }
      ]
    },
    {
      "cell_type": "code",
      "source": [
        "# Write a function to copy an array to another array\n",
        "\n",
        "def copy_array(source_array):\n",
        "    copied_array = source_array.copy()\n",
        "    return copied_array\n",
        "\n",
        "original_array = [10, 20, 30, 40, 50]\n",
        "copied_array = copy_array(original_array)\n",
        "\n",
        "print(\"Original array:\", original_array)\n",
        "print(\"Copied array:\", copied_array)\n"
      ],
      "metadata": {
        "colab": {
          "base_uri": "https://localhost:8080/"
        },
        "id": "i47HuiXZf3tQ",
        "outputId": "7e42091d-ea53-4c74-9164-77b57ec2e8b4"
      },
      "execution_count": null,
      "outputs": [
        {
          "output_type": "stream",
          "name": "stdout",
          "text": [
            "Original array: [10, 20, 30, 40, 50]\n",
            "Copied array: [10, 20, 30, 40, 50]\n"
          ]
        }
      ]
    },
    {
      "cell_type": "code",
      "source": [
        "# Write a function to insert an element at a specific position in the array\n",
        "\n",
        "\n",
        "def insert_element(arr, position, element):\n",
        "    if position < 0 or position > len(arr):\n",
        "        raise IndexError(\"Position out of range\")\n",
        "    arr.insert(position, element)\n",
        "    return arr\n",
        "\n",
        "\n",
        "my_array = [10, 20, 30, 40, 50]\n",
        "position_to_insert = 2\n",
        "element_to_insert = 25\n",
        "\n",
        "result = insert_element(my_array, position_to_insert, element_to_insert)\n",
        "print(\"Array after insertion:\", result)\n"
      ],
      "metadata": {
        "colab": {
          "base_uri": "https://localhost:8080/"
        },
        "id": "KY8QhZRXgqGa",
        "outputId": "13220dc3-e456-4e7c-bbda-4a1de47f0f55"
      },
      "execution_count": null,
      "outputs": [
        {
          "output_type": "stream",
          "name": "stdout",
          "text": [
            "Array after insertion: [10, 20, 25, 30, 40, 50]\n"
          ]
        }
      ]
    },
    {
      "cell_type": "code",
      "source": [
        "#Write a function to find the minimum and maximum value of an array\n",
        "\n",
        "def find_min_max(arr):\n",
        "    return min(arr), max(arr)\n",
        "\n",
        "# Example usage:\n",
        "arr = [12, 45, 7, 23, 56, 89, 34]\n",
        "min_val, max_val = find_min_max(arr)\n",
        "print(\"Minimum value:\", min_val)\n",
        "print(\"Maximum value:\", max_val)"
      ],
      "metadata": {
        "colab": {
          "base_uri": "https://localhost:8080/"
        },
        "id": "pYj90v7AhGpZ",
        "outputId": "cd5cdd9d-5d10-4a85-c45f-f421b2ad0f17"
      },
      "execution_count": null,
      "outputs": [
        {
          "output_type": "stream",
          "name": "stdout",
          "text": [
            "Minimum value: 7\n",
            "Maximum value: 89\n"
          ]
        }
      ]
    },
    {
      "cell_type": "code",
      "source": [
        "# revwrae oif array\n",
        "\n",
        "def reverse_array(arr):\n",
        "    return arr[::-1]\n",
        "\n",
        "# Example usage:\n",
        "arr = [1, 2, 3, 4, 5]\n",
        "reversed_arr = reverse_array(arr)\n",
        "print(\"Reversed array:\", reversed_arr)"
      ],
      "metadata": {
        "colab": {
          "base_uri": "https://localhost:8080/"
        },
        "id": "OfLyxdeRhQiV",
        "outputId": "bf14f0fe-3f40-4135-b769-1fffa2c86320"
      },
      "execution_count": null,
      "outputs": [
        {
          "output_type": "stream",
          "name": "stdout",
          "text": [
            "Reversed array: [5, 4, 3, 2, 1]\n"
          ]
        }
      ]
    },
    {
      "cell_type": "code",
      "source": [
        "def find_duplicates(arr):\n",
        "    return [x for x in set(arr) if arr.count(x) > 1]\n",
        "\n",
        "# Example usage:\n",
        "arr = [1, 2, 3, 4, 2, 7, 8, 8, 9]\n",
        "duplicates = find_duplicates(arr)\n",
        "print(\"Duplicate values:\", duplicates)"
      ],
      "metadata": {
        "colab": {
          "base_uri": "https://localhost:8080/"
        },
        "id": "9n7tkmowhv-x",
        "outputId": "024a9c90-0f59-4953-b432-801089769554"
      },
      "execution_count": null,
      "outputs": [
        {
          "output_type": "stream",
          "name": "stdout",
          "text": [
            "Duplicate values: [2, 8]\n"
          ]
        }
      ]
    },
    {
      "cell_type": "code",
      "source": [
        "def find_common_values(arr1, arr2):\n",
        "    return [value for value in arr1 if value in arr2]\n",
        "\n",
        "# Example usage:\n",
        "arr1 = [1, 2, 3, 4, 5]\n",
        "arr2 = [4, 5, 6, 7, 8]\n",
        "common_values = find_common_values(arr1, arr2)\n",
        "print(\"Common values:\", common_values)"
      ],
      "metadata": {
        "colab": {
          "base_uri": "https://localhost:8080/"
        },
        "id": "pnhv1VrfhxoQ",
        "outputId": "d7b10404-8f8b-4956-84e1-ecb360be0d64"
      },
      "execution_count": null,
      "outputs": [
        {
          "output_type": "stream",
          "name": "stdout",
          "text": [
            "Common values: [4, 5]\n"
          ]
        }
      ]
    },
    {
      "cell_type": "code",
      "source": [
        "#Write a method to remove duplicate elements from an array\n",
        "\n",
        "def remove_duplicates(arr):\n",
        "    return list(set(arr))\n",
        "\n",
        "# Example usage:\n",
        "arr = [1, 2, 2, 3, 4, 4, 5, 6, 6, 7, 8, 8, 9]\n",
        "arr_without_duplicates = remove_duplicates(arr)\n",
        "print(\"Array without duplicates:\", arr_without_duplicates)"
      ],
      "metadata": {
        "colab": {
          "base_uri": "https://localhost:8080/"
        },
        "id": "yUWJssxyh9Fq",
        "outputId": "21197136-19a4-406c-a852-cec68c65a066"
      },
      "execution_count": null,
      "outputs": [
        {
          "output_type": "stream",
          "name": "stdout",
          "text": [
            "Array without duplicates: [1, 2, 3, 4, 5, 6, 7, 8, 9]\n"
          ]
        }
      ]
    },
    {
      "cell_type": "code",
      "source": [
        "# Write a method to find the second largest number in an array\n",
        "\n",
        "def find_second_largest(arr):\n",
        "    if len(arr) < 2:\n",
        "        return None\n",
        "    arr = sorted(set(arr), reverse=True)\n",
        "    return arr[1] if len(arr) > 1 else None\n",
        "\n",
        "# Example usage:\n",
        "arr = [12, 13, 1, 10, 34, 16]\n",
        "second_largest = find_second_largest(arr)\n",
        "print(\"Second largest number:\", second_largest)"
      ],
      "metadata": {
        "colab": {
          "base_uri": "https://localhost:8080/"
        },
        "id": "Tq-aG0gqiRTx",
        "outputId": "42cbd984-cb1f-4931-a0f3-e72474e4e5a8"
      },
      "execution_count": null,
      "outputs": [
        {
          "output_type": "stream",
          "name": "stdout",
          "text": [
            "Second largest number: 16\n"
          ]
        }
      ]
    },
    {
      "cell_type": "code",
      "source": [
        "# Write a function to get the difference of largest and smallest value\n",
        "def get_difference(lst):\n",
        "    return max(lst) - min(lst)\n",
        "\n",
        "lst = [12, 13, 1, 10, 34, 16, 7, 9]\n",
        "print(\"Difference of largest and smallest value:\", get_difference(lst))\n",
        "\n",
        "\n",
        "\n"
      ],
      "metadata": {
        "colab": {
          "base_uri": "https://localhost:8080/"
        },
        "id": "niE2bss0ijNe",
        "outputId": "5c5bf8b2-8098-4142-b24b-68908853f551"
      },
      "execution_count": null,
      "outputs": [
        {
          "output_type": "stream",
          "name": "stdout",
          "text": [
            "Difference of largest and smallest value: 33\n"
          ]
        }
      ]
    },
    {
      "cell_type": "code",
      "source": [
        "# . Write a program to remove the duplicate elements and return the new array\n",
        "\n",
        "def remove_duplicates(arr):\n",
        "    return list(set(arr))\n",
        "\n",
        "arr = [1, 2, 2, 3, 4, 4, 5, 6, 6, 7, 8, 8, 9]\n",
        "new_arr = remove_duplicates(arr)\n",
        "print(\"Original array:\", arr)\n",
        "print(\"New array without duplicates:\", new_arr)"
      ],
      "metadata": {
        "colab": {
          "base_uri": "https://localhost:8080/"
        },
        "id": "dyWKlR1BmnoM",
        "outputId": "8eb9e697-2ec4-493d-e8a3-24b2d391a7f5"
      },
      "execution_count": null,
      "outputs": [
        {
          "output_type": "stream",
          "name": "stdout",
          "text": [
            "Original array: [1, 2, 2, 3, 4, 4, 5, 6, 6, 7, 8, 8, 9]\n",
            "New array without duplicates: [1, 2, 3, 4, 5, 6, 7, 8, 9]\n"
          ]
        }
      ]
    },
    {
      "cell_type": "code",
      "source": [
        "a=\"sandrapati\"\n",
        "\n",
        "for i in a:\n",
        "\n",
        "  print(i)"
      ],
      "metadata": {
        "colab": {
          "base_uri": "https://localhost:8080/"
        },
        "id": "rBUERJWTtk0x",
        "outputId": "e5c5b6bc-89fa-4078-e295-da40e8dd27dd"
      },
      "execution_count": null,
      "outputs": [
        {
          "output_type": "stream",
          "name": "stdout",
          "text": [
            "s\n",
            "a\n",
            "n\n",
            "d\n",
            "r\n",
            "a\n",
            "p\n",
            "a\n",
            "t\n",
            "i\n"
          ]
        }
      ]
    },
    {
      "cell_type": "code",
      "source": [],
      "metadata": {
        "id": "Ig5TKN85trVF"
      },
      "execution_count": null,
      "outputs": []
    }
  ]
}