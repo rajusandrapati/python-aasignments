{
  "nbformat": 4,
  "nbformat_minor": 0,
  "metadata": {
    "colab": {
      "provenance": [],
      "authorship_tag": "ABX9TyOxwIl2YIMwLkN+ZgxYh9o1",
      "include_colab_link": true
    },
    "kernelspec": {
      "name": "python3",
      "display_name": "Python 3"
    },
    "language_info": {
      "name": "python"
    }
  },
  "cells": [
    {
      "cell_type": "markdown",
      "metadata": {
        "id": "view-in-github",
        "colab_type": "text"
      },
      "source": [
        "<a href=\"https://colab.research.google.com/github/rajusandrapati/python-aasignments/blob/main/Dictionary.ipynb\" target=\"_parent\"><img src=\"https://colab.research.google.com/assets/colab-badge.svg\" alt=\"Open In Colab\"/></a>"
      ]
    },
    {
      "cell_type": "code",
      "execution_count": null,
      "metadata": {
        "id": "rtJluqWbPTvG"
      },
      "outputs": [],
      "source": [
        "#  Create a Dictionary with at Least 5 Key-Value Pairs of Student ID and Name\n",
        "\n",
        "# Create a dictionary with Student ID and Name\n",
        "student_dict = {\n",
        "    101: \"Alice\",\n",
        "    102: \"Bob\",\n",
        "    103: \"Charlie\",\n",
        "    104: \"David\",\n",
        "    105: \"Eve\"\n",
        "}\n"
      ]
    },
    {
      "cell_type": "code",
      "source": [
        "# Adding Values in Dictionary\n",
        "\n",
        "# Add a new student to the dictionary\n",
        "student_dict[106] = \"Frank\"\n",
        "print(\"After adding a new student:\", student_dict)\n"
      ],
      "metadata": {
        "colab": {
          "base_uri": "https://localhost:8080/"
        },
        "id": "dt4bT6-cPsVN",
        "outputId": "e6e6654f-7302-470b-9bf3-b859ec9e814f"
      },
      "execution_count": null,
      "outputs": [
        {
          "output_type": "stream",
          "name": "stdout",
          "text": [
            "After adding a new student: {101: 'Alice', 102: 'Bob', 103: 'Charlie', 104: 'David', 105: 'Eve', 106: 'Frank'}\n"
          ]
        }
      ]
    },
    {
      "cell_type": "code",
      "source": [
        "# Update the name of the student with ID 103\n",
        "student_dict[103] = \"Carlos\"\n",
        "print(\"After updating student ID 103:\", student_dict)\n"
      ],
      "metadata": {
        "colab": {
          "base_uri": "https://localhost:8080/"
        },
        "id": "tVc_FxXTPy7f",
        "outputId": "5a2e01bf-0bbc-4151-ad2b-ccb84b8f2f9d"
      },
      "execution_count": null,
      "outputs": [
        {
          "output_type": "stream",
          "name": "stdout",
          "text": [
            "After updating student ID 103: {101: 'Alice', 102: 'Bob', 103: 'Carlos', 104: 'David', 105: 'Eve', 106: 'Frank'}\n"
          ]
        }
      ]
    },
    {
      "cell_type": "code",
      "source": [
        "# Access the name of the student with ID 102\n",
        "student_name = student_dict[102]\n",
        "print(\"Student with ID 102:\", student_name)\n"
      ],
      "metadata": {
        "colab": {
          "base_uri": "https://localhost:8080/"
        },
        "id": "MlA7gMe9P6t6",
        "outputId": "85da147a-6f07-4994-f40f-20fdd115df03"
      },
      "execution_count": null,
      "outputs": [
        {
          "output_type": "stream",
          "name": "stdout",
          "text": [
            "Student with ID 102: Bob\n"
          ]
        }
      ]
    },
    {
      "cell_type": "code",
      "source": [
        "\n",
        "#  Access the values of nested loop dictionary\n",
        "\n",
        "nested_dict = {\n",
        "    \"student1\": {\"name\": \"John\", \"age\": 20, \"grade\": \"A\"},\n",
        "    \"student2\": {\"name\": \"Jane\", \"age\": 21, \"grade\": \"B\"},\n",
        "    \"student3\": {\"name\": \"Bob\", \"age\": 22, \"grade\": \"C\"}\n",
        "}\n",
        "\n",
        "# Accessing values of nested dictionary\n",
        "for student, info in nested_dict.items():\n",
        "    print(f\"Student {student}:\")\n",
        "    for key, value in info.items():\n",
        "        print(f\"  {key.capitalize()}: {value}\")\n",
        "    print()"
      ],
      "metadata": {
        "colab": {
          "base_uri": "https://localhost:8080/"
        },
        "id": "MApGx2ghP_O3",
        "outputId": "fdad74ec-bf34-4127-fda6-e98d90d04f09"
      },
      "execution_count": null,
      "outputs": [
        {
          "output_type": "stream",
          "name": "stdout",
          "text": [
            "Student student1:\n",
            "  Name: John\n",
            "  Age: 20\n",
            "  Grade: A\n",
            "\n",
            "Student student2:\n",
            "  Name: Jane\n",
            "  Age: 21\n",
            "  Grade: B\n",
            "\n",
            "Student student3:\n",
            "  Name: Bob\n",
            "  Age: 22\n",
            "  Grade: C\n",
            "\n"
          ]
        }
      ]
    },
    {
      "cell_type": "code",
      "source": [
        "# Print all keys in the student_dict\n",
        "print(\"Keys in student_dict:\", student_dict.keys())\n"
      ],
      "metadata": {
        "colab": {
          "base_uri": "https://localhost:8080/"
        },
        "id": "GRDAzVncQdc8",
        "outputId": "08a969ef-b934-485f-c686-820b162cb34e"
      },
      "execution_count": null,
      "outputs": [
        {
          "output_type": "stream",
          "name": "stdout",
          "text": [
            "Keys in student_dict: dict_keys([101, 102, 103, 104, 105, 106])\n"
          ]
        }
      ]
    },
    {
      "cell_type": "code",
      "source": [
        "# done\n",
        "\n"
      ],
      "metadata": {
        "id": "YOhMji5jQltf"
      },
      "execution_count": null,
      "outputs": []
    },
    {
      "cell_type": "code",
      "source": [],
      "metadata": {
        "id": "WufYkPVEQqhU"
      },
      "execution_count": null,
      "outputs": []
    }
  ]
}